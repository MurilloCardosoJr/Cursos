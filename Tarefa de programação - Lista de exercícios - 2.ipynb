{
 "cells": [
  {
   "cell_type": "markdown",
   "id": "d4b354f9",
   "metadata": {},
   "source": [
    "Exercício 1: Letras maiúsculas\n",
    "Escreva a função maiusculas(frase) que recebe uma frase (uma string) como parâmetro e devolve uma string com as letras maiúsculas que existem nesta frase, na ordem em que elas aparecem.\n",
    "\n",
    "Para resolver este exercício, pode ser útil verificar uma tabela ASCII, que contém os valores de cada caractere. Ver https://pt.wikipedia.org/wiki/ASCII\n",
    "\n",
    "Note que para simplificar a solução do exercício, as frases passadas para a sua função não possuirão caracteres que não estejam presentes na tabela ASCII apresentada, como ç, á, É, ã, etc.\n",
    "\n",
    "Dica: Os valores apresentados na tabela são os mesmos devolvidos pela função ord apresentada nas aulas."
   ]
  },
  {
   "cell_type": "code",
   "execution_count": 19,
   "id": "d1f1f195",
   "metadata": {},
   "outputs": [],
   "source": [
    "def maiusculas(frase):\n",
    "    letras_maiusculas = \"\"\n",
    "    \n",
    "    for elemento in frase:\n",
    "        if elemento.isupper():\n",
    "            letras_maiusculas += elemento\n",
    "    \n",
    "    return letras_maiusculas"
   ]
  },
  {
   "cell_type": "code",
   "execution_count": 20,
   "id": "84152526",
   "metadata": {},
   "outputs": [
    {
     "data": {
      "text/plain": [
       "'P'"
      ]
     },
     "execution_count": 20,
     "metadata": {},
     "output_type": "execute_result"
    }
   ],
   "source": [
    "maiusculas('Programamos em python 2?')"
   ]
  },
  {
   "cell_type": "code",
   "execution_count": 21,
   "id": "2c7ed73e",
   "metadata": {},
   "outputs": [
    {
     "data": {
      "text/plain": [
       "'PP'"
      ]
     },
     "execution_count": 21,
     "metadata": {},
     "output_type": "execute_result"
    }
   ],
   "source": [
    "maiusculas('Programamos em Python 3.')"
   ]
  },
  {
   "cell_type": "code",
   "execution_count": 22,
   "id": "3854c92b",
   "metadata": {},
   "outputs": [
    {
     "data": {
      "text/plain": [
       "'PORMMS'"
      ]
     },
     "execution_count": 22,
     "metadata": {},
     "output_type": "execute_result"
    }
   ],
   "source": [
    "maiusculas('PrOgRaMaMoS em python!')"
   ]
  },
  {
   "cell_type": "markdown",
   "id": "ed297aab",
   "metadata": {},
   "source": [
    "Exercício 2: Menor nome\n",
    "Como pedido no primeiro vídeo desta semana, escreva uma função menor_nome(nomes) que recebe uma lista de strings com nome de pessoas como parâmetro e devolve o nome mais curto presente na lista.\n",
    "\n",
    "A função deve ignorar espaços antes e depois do nome e deve devolver o menor nome presente na lista. Este nome deve ser devolvido com a primeira letra maiúscula e seus demais caracteres minúsculos, independente de como tenha sido apresentado na lista passada para a função.\n",
    "\n",
    "Quando houver mais de um nome com o menor comprimento dentre os nomes na lista, a função deve devolver o primeiro nome com o menor comprimento presente na lista."
   ]
  },
  {
   "cell_type": "code",
   "execution_count": 26,
   "id": "b1be11bf",
   "metadata": {},
   "outputs": [],
   "source": [
    "def menor_nome(nomes):\n",
    "    nome_curto = None\n",
    "    \n",
    "    for nome in nomes:\n",
    "        nome = nome.strip()\n",
    "        if nome_curto is None or len(nome) < len(nome_curto):\n",
    "            nome_curto = nome\n",
    "    return nome_curto.capitalize()\n",
    "    "
   ]
  },
  {
   "cell_type": "code",
   "execution_count": 27,
   "id": "4c04fda0",
   "metadata": {},
   "outputs": [
    {
     "data": {
      "text/plain": [
       "'José'"
      ]
     },
     "execution_count": 27,
     "metadata": {},
     "output_type": "execute_result"
    }
   ],
   "source": [
    "menor_nome(['maria', 'josé', 'PAULO', 'Catarina'])\n",
    "# deve devolver 'José'"
   ]
  },
  {
   "cell_type": "code",
   "execution_count": 28,
   "id": "1e50e13e",
   "metadata": {},
   "outputs": [
    {
     "data": {
      "text/plain": [
       "'José'"
      ]
     },
     "execution_count": 28,
     "metadata": {},
     "output_type": "execute_result"
    }
   ],
   "source": [
    "menor_nome(['maria', ' josé  ', '  PAULO', 'Catarina  '])\n",
    "# deve devolver 'José'"
   ]
  },
  {
   "cell_type": "code",
   "execution_count": 29,
   "id": "10e9cde0",
   "metadata": {},
   "outputs": [
    {
     "data": {
      "text/plain": [
       "'José'"
      ]
     },
     "execution_count": 29,
     "metadata": {},
     "output_type": "execute_result"
    }
   ],
   "source": [
    "menor_nome(['Bárbara', 'JOSÉ  ', 'Bill'])\n",
    "# deve devolver José"
   ]
  },
  {
   "cell_type": "code",
   "execution_count": null,
   "id": "c04d20b1",
   "metadata": {},
   "outputs": [],
   "source": []
  }
 ],
 "metadata": {
  "kernelspec": {
   "display_name": "Python 3 (ipykernel)",
   "language": "python",
   "name": "python3"
  },
  "language_info": {
   "codemirror_mode": {
    "name": "ipython",
    "version": 3
   },
   "file_extension": ".py",
   "mimetype": "text/x-python",
   "name": "python",
   "nbconvert_exporter": "python",
   "pygments_lexer": "ipython3",
   "version": "3.11.4"
  }
 },
 "nbformat": 4,
 "nbformat_minor": 5
}
