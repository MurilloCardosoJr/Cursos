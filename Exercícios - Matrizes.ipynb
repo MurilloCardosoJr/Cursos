{
 "cells": [
  {
   "cell_type": "markdown",
   "id": "2ff66b93",
   "metadata": {},
   "source": [
    "# Matrizes (Definição, criação, inicialização, leitura, escrita e outras manipulações de matrizes. Comentários nos programas com (#) e (‘))"
   ]
  },
  {
   "cell_type": "markdown",
   "id": "5ee0ccc9",
   "metadata": {},
   "source": [
    "Exercício 1: Tamanho da matriz\n",
    "\n",
    "Escreva uma função dimensoes(matriz) que recebe uma matriz como parâmetro e imprime as dimensões da matriz recebida, no formato iXj."
   ]
  },
  {
   "cell_type": "code",
   "execution_count": 29,
   "id": "88456fa4",
   "metadata": {},
   "outputs": [],
   "source": [
    "def dimensoes(matriz):\n",
    "    num_linhas = len(matriz)\n",
    "    num_colunas = len(matriz[0])\n",
    "    print(f\"{num_linhas}x{num_colunas}\")\n",
    "    return"
   ]
  },
  {
   "cell_type": "markdown",
   "id": "1a38278e",
   "metadata": {},
   "source": [
    "Exercício 2: Soma de matrizes\n",
    "\n",
    "Escreva a função soma_matrizes(m1, m2) que recebe 2 matrizes e devolve uma matriz que represente sua soma caso as matrizes tenham dimensões iguais. Caso contrário, a função deve devolver False."
   ]
  },
  {
   "cell_type": "code",
   "execution_count": 20,
   "id": "803480c6",
   "metadata": {},
   "outputs": [],
   "source": [
    "def soma_matrizes(m1, m2):\n",
    "    num_linhas1 = len(m1)\n",
    "    num_colunas1 = len(m1[0])\n",
    "    num_linhas2 = len(m2)\n",
    "    num_colunas2 = len(m2[0])\n",
    "    if  num_linhas1 != num_linhas2 and num_colunas1 !=  num_colunas2:\n",
    "        return False\n",
    "    result = []\n",
    "    for i in range(len(m1)):   \n",
    "        result.append([])\n",
    "        for j in range(len(m1[0])):\n",
    "            result[i].append(m1[i][j] + m2[i][j])\n",
    "    return result"
   ]
  },
  {
   "cell_type": "markdown",
   "id": "359fdb05",
   "metadata": {},
   "source": [
    "# Praticar tarefa de programação: Exercícios adicionais (opcionais)"
   ]
  },
  {
   "cell_type": "markdown",
   "id": "bed2ff1e",
   "metadata": {},
   "source": [
    "Exercício 1: Imprimindo matrizes\n",
    "\n",
    "Como proposto na primeira vídeo-aula da semana, escreva uma função imprime_matriz(matriz), que recebe uma matriz como parâmetro e imprime a matriz, linha por linha. Note que NÃO se deve imprimir espaços após o último elemento de cada linha!\n",
    "\n",
    "Dica: lembre da primeira parte do curso, na semana 7! A função \"print\" em geral adiciona uma quebra de linha ao final, mas você pode controlar isso usando o argumento opcional \"end\"dessa forma:"
   ]
  },
  {
   "cell_type": "code",
   "execution_count": 41,
   "id": "b7c9fd86",
   "metadata": {},
   "outputs": [],
   "source": [
    "def imprime_matriz(matriz):\n",
    "    for linha in matriz:\n",
    "        for elemento in linha[:-1]:\n",
    "            print(elemento, end=' ')\n",
    "        print(linha[-1])"
   ]
  },
  {
   "cell_type": "markdown",
   "id": "6ad4b6b2",
   "metadata": {},
   "source": [
    "Exercício 2: Matrizes multiplicáveis\n",
    "\n",
    "Duas matrizes são multiplicáveis se o número de colunas da primeira é igual ao número de linhas da segunda. Escreva a função sao_multiplicaveis(m1, m2) que recebe duas matrizes como parâmetro e devolve True se as matrizes forem multiplicavéis (na ordem dada) e False caso contrário."
   ]
  },
  {
   "cell_type": "code",
   "execution_count": 31,
   "id": "07aee857",
   "metadata": {},
   "outputs": [],
   "source": [
    "def sao_multiplicaveis(m1,m2):\n",
    "    num_colunas1 = len(m1[0])\n",
    "    num_linhas2 = len(m2)\n",
    "    if num_colunas1 == num_linhas2:\n",
    "        return True\n",
    "    else:\n",
    "        return False"
   ]
  }
 ],
 "metadata": {
  "kernelspec": {
   "display_name": "Python 3 (ipykernel)",
   "language": "python",
   "name": "python3"
  },
  "language_info": {
   "codemirror_mode": {
    "name": "ipython",
    "version": 3
   },
   "file_extension": ".py",
   "mimetype": "text/x-python",
   "name": "python",
   "nbconvert_exporter": "python",
   "pygments_lexer": "ipython3",
   "version": "3.11.4"
  }
 },
 "nbformat": 4,
 "nbformat_minor": 5
}
